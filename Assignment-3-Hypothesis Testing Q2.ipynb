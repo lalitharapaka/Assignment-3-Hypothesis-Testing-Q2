{
 "cells": [
  {
   "cell_type": "markdown",
   "id": "26d62f8e",
   "metadata": {},
   "source": [
    "2)\tA hospital wants to determine whether there is any difference in the average Turn Around Time (TAT) of reports of the laboratories on their preferred list. They collected a random sample and recorded TAT for reports of 4 laboratories. TAT is defined as sample collected to report dispatch. \n",
    "Analyze the data and determine whether there is any difference in average TAT among the different laboratories at 5% significance level.\n"
   ]
  },
  {
   "cell_type": "markdown",
   "id": "cb90756b",
   "metadata": {},
   "source": [
    "#### Assumption-Null hyposthesis as H0: μ1 = μ2 = μ3 = μ4. There is no difference in Turn Around Time (TAT) for reports of 4 laboratories.\n",
    "\n",
    "####  Alternate hypothesis as Ha: All μ are not equal.s At least, one group mean is different from other groups\n",
    "\n",
    "\n",
    "####  As alternate hypothesis we need to check if there is any difference in average TAT among the different laboratories, we will do two tail testing."
   ]
  },
  {
   "cell_type": "code",
   "execution_count": 16,
   "id": "676d29e4",
   "metadata": {},
   "outputs": [],
   "source": [
    "### importing required libraries\n",
    "\n",
    "import pandas as pd \n",
    "import numpy as np\n",
    "from scipy import stats\n",
    "from scipy.stats import f_oneway"
   ]
  },
  {
   "cell_type": "code",
   "execution_count": 2,
   "id": "00bf1416",
   "metadata": {},
   "outputs": [
    {
     "data": {
      "text/html": [
       "<div>\n",
       "<style scoped>\n",
       "    .dataframe tbody tr th:only-of-type {\n",
       "        vertical-align: middle;\n",
       "    }\n",
       "\n",
       "    .dataframe tbody tr th {\n",
       "        vertical-align: top;\n",
       "    }\n",
       "\n",
       "    .dataframe thead th {\n",
       "        text-align: right;\n",
       "    }\n",
       "</style>\n",
       "<table border=\"1\" class=\"dataframe\">\n",
       "  <thead>\n",
       "    <tr style=\"text-align: right;\">\n",
       "      <th></th>\n",
       "      <th>Laboratory 1</th>\n",
       "      <th>Laboratory 2</th>\n",
       "      <th>Laboratory 3</th>\n",
       "      <th>Laboratory 4</th>\n",
       "    </tr>\n",
       "  </thead>\n",
       "  <tbody>\n",
       "    <tr>\n",
       "      <th>0</th>\n",
       "      <td>185.35</td>\n",
       "      <td>165.53</td>\n",
       "      <td>176.70</td>\n",
       "      <td>166.13</td>\n",
       "    </tr>\n",
       "    <tr>\n",
       "      <th>1</th>\n",
       "      <td>170.49</td>\n",
       "      <td>185.91</td>\n",
       "      <td>198.45</td>\n",
       "      <td>160.79</td>\n",
       "    </tr>\n",
       "    <tr>\n",
       "      <th>2</th>\n",
       "      <td>192.77</td>\n",
       "      <td>194.92</td>\n",
       "      <td>201.23</td>\n",
       "      <td>185.18</td>\n",
       "    </tr>\n",
       "    <tr>\n",
       "      <th>3</th>\n",
       "      <td>177.33</td>\n",
       "      <td>183.00</td>\n",
       "      <td>199.61</td>\n",
       "      <td>176.42</td>\n",
       "    </tr>\n",
       "    <tr>\n",
       "      <th>4</th>\n",
       "      <td>193.41</td>\n",
       "      <td>169.57</td>\n",
       "      <td>204.63</td>\n",
       "      <td>152.60</td>\n",
       "    </tr>\n",
       "  </tbody>\n",
       "</table>\n",
       "</div>"
      ],
      "text/plain": [
       "   Laboratory 1  Laboratory 2  Laboratory 3  Laboratory 4\n",
       "0        185.35        165.53        176.70        166.13\n",
       "1        170.49        185.91        198.45        160.79\n",
       "2        192.77        194.92        201.23        185.18\n",
       "3        177.33        183.00        199.61        176.42\n",
       "4        193.41        169.57        204.63        152.60"
      ]
     },
     "execution_count": 2,
     "metadata": {},
     "output_type": "execute_result"
    }
   ],
   "source": [
    "### loading the data file\n",
    "\n",
    "data = pd.read_csv(\"LabTAT.csv\")\n",
    "data.head()"
   ]
  },
  {
   "cell_type": "code",
   "execution_count": 4,
   "id": "1b37904d",
   "metadata": {},
   "outputs": [
    {
     "data": {
      "text/plain": [
       "0      185.35\n",
       "1      170.49\n",
       "2      192.77\n",
       "3      177.33\n",
       "4      193.41\n",
       "        ...  \n",
       "115    178.49\n",
       "116    176.08\n",
       "117    202.48\n",
       "118    182.40\n",
       "119    182.09\n",
       "Name: Laboratory 1, Length: 120, dtype: float64"
      ]
     },
     "execution_count": 4,
     "metadata": {},
     "output_type": "execute_result"
    }
   ],
   "source": [
    "Lab1 = pd.Series(data.iloc[:,0])\n",
    "Lab1"
   ]
  },
  {
   "cell_type": "code",
   "execution_count": 5,
   "id": "d39bb36a",
   "metadata": {},
   "outputs": [
    {
     "data": {
      "text/plain": [
       "0      165.53\n",
       "1      185.91\n",
       "2      194.92\n",
       "3      183.00\n",
       "4      169.57\n",
       "        ...  \n",
       "115    170.66\n",
       "116    183.98\n",
       "117    174.54\n",
       "118    197.18\n",
       "119    215.17\n",
       "Name: Laboratory 2, Length: 120, dtype: float64"
      ]
     },
     "execution_count": 5,
     "metadata": {},
     "output_type": "execute_result"
    }
   ],
   "source": [
    "Lab2 = pd.Series(data.iloc[:,1])\n",
    "Lab2"
   ]
  },
  {
   "cell_type": "code",
   "execution_count": 7,
   "id": "c0a21d82",
   "metadata": {},
   "outputs": [
    {
     "data": {
      "text/plain": [
       "0      176.70\n",
       "1      198.45\n",
       "2      201.23\n",
       "3      199.61\n",
       "4      204.63\n",
       "        ...  \n",
       "115    193.80\n",
       "116    215.25\n",
       "117    203.99\n",
       "118    194.52\n",
       "119    221.49\n",
       "Name: Laboratory 3, Length: 120, dtype: float64"
      ]
     },
     "execution_count": 7,
     "metadata": {},
     "output_type": "execute_result"
    }
   ],
   "source": [
    "Lab3=pd.Series(data.iloc[:,2])\n",
    "Lab3"
   ]
  },
  {
   "cell_type": "code",
   "execution_count": 19,
   "id": "b2987fe0",
   "metadata": {},
   "outputs": [
    {
     "data": {
      "text/plain": [
       "0      166.13\n",
       "1      160.79\n",
       "2      185.18\n",
       "3      176.42\n",
       "4      152.60\n",
       "        ...  \n",
       "115    172.68\n",
       "116    177.64\n",
       "117    170.27\n",
       "118    150.87\n",
       "119    162.21\n",
       "Name: Laboratory 4, Length: 120, dtype: float64"
      ]
     },
     "execution_count": 19,
     "metadata": {},
     "output_type": "execute_result"
    }
   ],
   "source": [
    "Lab4 =pd.Series(data.iloc[:,3])\n",
    "Lab4"
   ]
  },
  {
   "cell_type": "code",
   "execution_count": 21,
   "id": "baed2e65",
   "metadata": {},
   "outputs": [
    {
     "name": "stdout",
     "output_type": "stream",
     "text": [
      "p value is  2.1156708949992414e-57\n",
      "Reject H0\n"
     ]
    }
   ],
   "source": [
    "statistic, pvalue =f_oneway(Lab1,Lab2,Lab3,Lab4)\n",
    "alpha=0.05\n",
    "\n",
    "print(\"p value is \",pvalue)\n",
    "if pvalue<=alpha:\n",
    "    print(\"Reject H0\")\n",
    "else:\n",
    "    print(\"H0 holds true\")"
   ]
  },
  {
   "cell_type": "markdown",
   "id": "cc8168d1",
   "metadata": {},
   "source": [
    "Hence the null hypothesis is rejected. That means that there is difference in average TAT among the different laboratories."
   ]
  }
 ],
 "metadata": {
  "kernelspec": {
   "display_name": "Python 3",
   "language": "python",
   "name": "python3"
  },
  "language_info": {
   "codemirror_mode": {
    "name": "ipython",
    "version": 3
   },
   "file_extension": ".py",
   "mimetype": "text/x-python",
   "name": "python",
   "nbconvert_exporter": "python",
   "pygments_lexer": "ipython3",
   "version": "3.8.8"
  }
 },
 "nbformat": 4,
 "nbformat_minor": 5
}
